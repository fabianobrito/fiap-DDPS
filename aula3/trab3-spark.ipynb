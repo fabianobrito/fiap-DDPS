{
 "cells": [
  {
   "cell_type": "code",
   "execution_count": 16,
   "metadata": {},
   "outputs": [],
   "source": [
    "from pyspark.sql import HiveContext"
   ]
  },
  {
   "cell_type": "code",
   "execution_count": 17,
   "metadata": {},
   "outputs": [],
   "source": [
    "sqlContext = HiveContext(sc)"
   ]
  },
  {
   "cell_type": "code",
   "execution_count": 18,
   "metadata": {},
   "outputs": [],
   "source": [
    "df = spark.read.csv(\"/user/trab3-spark/diabetes_prediction_dataset.csv\", sep =',', inferSchema = True, header = True)"
   ]
  },
  {
   "cell_type": "code",
   "execution_count": 19,
   "metadata": {},
   "outputs": [
    {
     "name": "stdout",
     "output_type": "stream",
     "text": [
      "++\n",
      "||\n",
      "++\n",
      "++\n",
      "\n"
     ]
    }
   ],
   "source": [
    "sqlContext.sql(\"\"\"create external table diabetes_patient_data (\n",
    "gender string,\n",
    "age integer,\n",
    "hypertension int,\n",
    "heart_disease int,\n",
    "smoking_history string,\n",
    "bmi double,\n",
    "HbA1c_level double,\n",
    "blood_glucose_level integer,\n",
    "diabetes integer\n",
    ")\n",
    "row format delimited fields terminated by ','\n",
    "LOCATION '/user/trab3-spark/diabetes_patient_data'\"\"\").show()"
   ]
  },
  {
   "cell_type": "code",
   "execution_count": 20,
   "metadata": {},
   "outputs": [
    {
     "name": "stdout",
     "output_type": "stream",
     "text": [
      "+------+----+------------+-------------+---------------+-----+-----------+-------------------+--------+\n",
      "|gender| age|hypertension|heart_disease|smoking_history|  bmi|HbA1c_level|blood_glucose_level|diabetes|\n",
      "+------+----+------------+-------------+---------------+-----+-----------+-------------------+--------+\n",
      "|Female|80.0|           0|            1|          never|25.19|        6.6|                140|       0|\n",
      "|Female|54.0|           0|            0|        No Info|27.32|        6.6|                 80|       0|\n",
      "|  Male|28.0|           0|            0|          never|27.32|        5.7|                158|       0|\n",
      "|Female|36.0|           0|            0|        current|23.45|        5.0|                155|       0|\n",
      "|  Male|76.0|           1|            1|        current|20.14|        4.8|                155|       0|\n",
      "|Female|20.0|           0|            0|          never|27.32|        6.6|                 85|       0|\n",
      "|Female|44.0|           0|            0|          never|19.31|        6.5|                200|       1|\n",
      "|Female|79.0|           0|            0|        No Info|23.86|        5.7|                 85|       0|\n",
      "|  Male|42.0|           0|            0|          never|33.64|        4.8|                145|       0|\n",
      "|Female|32.0|           0|            0|          never|27.32|        5.0|                100|       0|\n",
      "|Female|53.0|           0|            0|          never|27.32|        6.1|                 85|       0|\n",
      "|Female|54.0|           0|            0|         former| 54.7|        6.0|                100|       0|\n",
      "|Female|78.0|           0|            0|         former|36.05|        5.0|                130|       0|\n",
      "|Female|67.0|           0|            0|          never|25.69|        5.8|                200|       0|\n",
      "|Female|76.0|           0|            0|        No Info|27.32|        5.0|                160|       0|\n",
      "|  Male|78.0|           0|            0|        No Info|27.32|        6.6|                126|       0|\n",
      "|  Male|15.0|           0|            0|          never|30.36|        6.1|                200|       0|\n",
      "|Female|42.0|           0|            0|          never|24.48|        5.7|                158|       0|\n",
      "|Female|42.0|           0|            0|        No Info|27.32|        5.7|                 80|       0|\n",
      "|  Male|37.0|           0|            0|           ever|25.72|        3.5|                159|       0|\n",
      "+------+----+------------+-------------+---------------+-----+-----------+-------------------+--------+\n",
      "only showing top 20 rows\n",
      "\n"
     ]
    }
   ],
   "source": [
    "df.show()"
   ]
  },
  {
   "cell_type": "code",
   "execution_count": 21,
   "metadata": {},
   "outputs": [
    {
     "name": "stdout",
     "output_type": "stream",
     "text": [
      "root\n",
      " |-- gender: string (nullable = true)\n",
      " |-- age: double (nullable = true)\n",
      " |-- hypertension: integer (nullable = true)\n",
      " |-- heart_disease: integer (nullable = true)\n",
      " |-- smoking_history: string (nullable = true)\n",
      " |-- bmi: double (nullable = true)\n",
      " |-- HbA1c_level: double (nullable = true)\n",
      " |-- blood_glucose_level: integer (nullable = true)\n",
      " |-- diabetes: integer (nullable = true)\n",
      "\n"
     ]
    }
   ],
   "source": [
    "df.printSchema()"
   ]
  },
  {
   "cell_type": "code",
   "execution_count": 22,
   "metadata": {},
   "outputs": [],
   "source": [
    "# Renomeando colunas atraeves da funcao - withColumnRenamed\n",
    "df = df.withColumnRenamed(\"gender\", \"genero\")\n",
    "df = df.withColumnRenamed(\"age\", \"idade\")\n",
    "df = df.withColumnRenamed(\"smoking_history\", \"tabagismo_historia\")\n",
    "df = df.withColumnRenamed(\"hypertension\", \"hipertensao\")\n",
    "df = df.withColumnRenamed(\"heart_disease\", \"doenca_cardiaca\")\n",
    "df = df.withColumnRenamed(\"bmi\", \"IMC\")\n",
    "df = df.withColumnRenamed(\"HbA1c_level\", \"Hemoglobina_A1c\")\n",
    "df = df.withColumnRenamed(\"blood_glucose_level\", \"niveis_glicose\")\n",
    "df = df.withColumnRenamed(\"heart_disease\", \"doenca_cardiaca\")"
   ]
  },
  {
   "cell_type": "code",
   "execution_count": 23,
   "metadata": {},
   "outputs": [
    {
     "name": "stdout",
     "output_type": "stream",
     "text": [
      "+------+-----+-----------+---------------+------------------+-----+---------------+--------------+--------+\n",
      "|genero|idade|hipertensao|doenca_cardiaca|tabagismo_historia|  IMC|Hemoglobina_A1c|niveis_glicose|diabetes|\n",
      "+------+-----+-----------+---------------+------------------+-----+---------------+--------------+--------+\n",
      "|Female| 80.0|          0|              1|             never|25.19|            6.6|           140|       0|\n",
      "|Female| 54.0|          0|              0|           No Info|27.32|            6.6|            80|       0|\n",
      "|  Male| 28.0|          0|              0|             never|27.32|            5.7|           158|       0|\n",
      "|Female| 36.0|          0|              0|           current|23.45|            5.0|           155|       0|\n",
      "|  Male| 76.0|          1|              1|           current|20.14|            4.8|           155|       0|\n",
      "|Female| 20.0|          0|              0|             never|27.32|            6.6|            85|       0|\n",
      "|Female| 44.0|          0|              0|             never|19.31|            6.5|           200|       1|\n",
      "|Female| 79.0|          0|              0|           No Info|23.86|            5.7|            85|       0|\n",
      "|  Male| 42.0|          0|              0|             never|33.64|            4.8|           145|       0|\n",
      "|Female| 32.0|          0|              0|             never|27.32|            5.0|           100|       0|\n",
      "|Female| 53.0|          0|              0|             never|27.32|            6.1|            85|       0|\n",
      "|Female| 54.0|          0|              0|            former| 54.7|            6.0|           100|       0|\n",
      "|Female| 78.0|          0|              0|            former|36.05|            5.0|           130|       0|\n",
      "|Female| 67.0|          0|              0|             never|25.69|            5.8|           200|       0|\n",
      "|Female| 76.0|          0|              0|           No Info|27.32|            5.0|           160|       0|\n",
      "|  Male| 78.0|          0|              0|           No Info|27.32|            6.6|           126|       0|\n",
      "|  Male| 15.0|          0|              0|             never|30.36|            6.1|           200|       0|\n",
      "|Female| 42.0|          0|              0|             never|24.48|            5.7|           158|       0|\n",
      "|Female| 42.0|          0|              0|           No Info|27.32|            5.7|            80|       0|\n",
      "|  Male| 37.0|          0|              0|              ever|25.72|            3.5|           159|       0|\n",
      "+------+-----+-----------+---------------+------------------+-----+---------------+--------------+--------+\n",
      "only showing top 20 rows\n",
      "\n"
     ]
    }
   ],
   "source": [
    "df.show()"
   ]
  },
  {
   "cell_type": "code",
   "execution_count": 28,
   "metadata": {},
   "outputs": [
    {
     "name": "stdout",
     "output_type": "stream",
     "text": [
      "+------+--------+------------------+------------------+\n",
      "|genero|diabetes|        avg(idade)|          avg(IMC)|\n",
      "+------+--------+------------------+------------------+\n",
      "|  Male|       1| 60.89477593463729| 31.28646694726477|\n",
      "| Other|       0|29.555555555555557|27.379444444444445|\n",
      "|Female|       0| 40.93506498308394|27.022525743654636|\n",
      "|  Male|       0| 38.93420876681544|26.691107218308606|\n",
      "|Female|       1| 60.99349921542255| 32.62389822909719|\n",
      "+------+--------+------------------+------------------+\n",
      "\n"
     ]
    }
   ],
   "source": [
    "# GrupBy em gender e diabetes.\n",
    "# Na media os homens que possui diabetes possui na media 60 anos e tem um IMC na meia de 31,28 - primeira linha\n",
    "df.groupBy(\"genero\",\"diabetes\").mean(\"idade\",\"IMC\").show()"
   ]
  },
  {
   "cell_type": "code",
   "execution_count": 29,
   "metadata": {},
   "outputs": [
    {
     "name": "stdout",
     "output_type": "stream",
     "text": [
      "+------+-----+-----------+---------------+------------------+-----+---------------+--------------+--------+\n",
      "|genero|idade|hipertensao|doenca_cardiaca|tabagismo_historia|  IMC|Hemoglobina_A1c|niveis_glicose|diabetes|\n",
      "+------+-----+-----------+---------------+------------------+-----+---------------+--------------+--------+\n",
      "|  Male| 0.08|          0|              0|           No Info|27.32|            5.8|           155|       0|\n",
      "|Female| 0.08|          0|              0|           No Info|27.32|            5.0|           155|       0|\n",
      "|  Male| 0.08|          0|              0|           No Info|14.92|            3.5|            90|       0|\n",
      "|Female| 0.08|          0|              0|           No Info|13.35|            3.5|           145|       0|\n",
      "|Female| 0.08|          0|              0|           No Info|14.26|            6.5|           160|       0|\n",
      "|Female| 0.08|          0|              0|           No Info|11.88|            5.7|            80|       0|\n",
      "|  Male| 0.08|          0|              0|           No Info| 11.1|            6.1|            80|       0|\n",
      "|  Male| 0.08|          0|              0|           No Info|27.32|            6.1|           126|       0|\n",
      "|Female| 0.08|          0|              0|           No Info| 14.1|            5.0|           160|       0|\n",
      "|  Male| 0.08|          0|              0|           No Info|13.55|            6.1|           145|       0|\n",
      "|Female| 0.08|          0|              0|           No Info|12.22|            3.5|           130|       0|\n",
      "|  Male| 0.08|          0|              0|           No Info|13.68|            5.0|            85|       0|\n",
      "|Female| 0.08|          0|              0|           No Info|27.32|            4.5|           160|       0|\n",
      "|Female| 0.08|          0|              0|           No Info|12.82|            3.5|            90|       0|\n",
      "|Female| 0.08|          0|              0|           No Info|27.32|            4.8|           140|       0|\n",
      "|Female| 0.08|          0|              0|           No Info|13.39|            6.1|            90|       0|\n",
      "|  Male| 0.08|          0|              0|           No Info| 12.8|            6.6|            80|       0|\n",
      "|  Male| 0.08|          0|              0|           No Info|13.45|            5.7|           158|       0|\n",
      "|  Male| 0.08|          0|              0|           No Info| 14.4|            6.0|            90|       0|\n",
      "|  Male| 0.08|          0|              0|           No Info|11.05|            4.5|           200|       0|\n",
      "+------+-----+-----------+---------------+------------------+-----+---------------+--------------+--------+\n",
      "only showing top 20 rows\n",
      "\n"
     ]
    }
   ],
   "source": [
    "# Ordenando a variavel age\n",
    "df.sort(\"idade\").show()"
   ]
  },
  {
   "cell_type": "code",
   "execution_count": 30,
   "metadata": {},
   "outputs": [
    {
     "name": "stdout",
     "output_type": "stream",
     "text": [
      "+-------+-----------------+\n",
      "|summary|            idade|\n",
      "+-------+-----------------+\n",
      "|  count|           100000|\n",
      "|   mean|41.88585600000013|\n",
      "| stddev|22.51683987161704|\n",
      "|    min|             0.08|\n",
      "|    max|             80.0|\n",
      "+-------+-----------------+\n",
      "\n"
     ]
    }
   ],
   "source": [
    "# Temos no arquivo idade de 0,08 anos. SEgundo pesquisa no google crianca dessa idade pode sim ter diabetes\n",
    "df.select('idade').describe().show()"
   ]
  },
  {
   "cell_type": "code",
   "execution_count": 31,
   "metadata": {},
   "outputs": [
    {
     "name": "stdout",
     "output_type": "stream",
     "text": [
      "+--------+-------------------+\n",
      "|diabetes|avg(niveis_glicose)|\n",
      "+--------+-------------------+\n",
      "|1       |194.09470588235294 |\n",
      "|0       |132.85246994535518 |\n",
      "+--------+-------------------+\n",
      "\n"
     ]
    }
   ],
   "source": [
    "# Pela media do nivel de glicose, exite uma diferenca considerada em quem tem diabete e quem nao tem.\n",
    "df.groupBy(\"diabetes\").mean(\"niveis_glicose\").show(truncate=False)"
   ]
  },
  {
   "cell_type": "code",
   "execution_count": 32,
   "metadata": {},
   "outputs": [
    {
     "name": "stdout",
     "output_type": "stream",
     "text": [
      "+------+-----+-----------+---------------+------------------+-----+---------------+--------------+--------+\n",
      "|genero|idade|hipertensao|doenca_cardiaca|tabagismo_historia|  IMC|Hemoglobina_A1c|niveis_glicose|diabetes|\n",
      "+------+-----+-----------+---------------+------------------+-----+---------------+--------------+--------+\n",
      "|Female| 80.0|          0|              1|             never|25.19|            6.6|           140|       0|\n",
      "|Female| 54.0|          0|              0|           No Info|27.32|            6.6|            80|       0|\n",
      "|  Male| 28.0|          0|              0|             never|27.32|            5.7|           158|       0|\n",
      "|Female| 36.0|          0|              0|           current|23.45|            5.0|           155|       0|\n",
      "|  Male| 76.0|          1|              1|           current|20.14|            4.8|           155|       0|\n",
      "|Female| 20.0|          0|              0|             never|27.32|            6.6|            85|       0|\n",
      "|Female| 44.0|          0|              0|             never|19.31|            6.5|           200|       1|\n",
      "|Female| 79.0|          0|              0|           No Info|23.86|            5.7|            85|       0|\n",
      "|  Male| 42.0|          0|              0|             never|33.64|            4.8|           145|       0|\n",
      "|Female| 32.0|          0|              0|             never|27.32|            5.0|           100|       0|\n",
      "|Female| 53.0|          0|              0|             never|27.32|            6.1|            85|       0|\n",
      "|Female| 54.0|          0|              0|            former| 54.7|            6.0|           100|       0|\n",
      "|Female| 78.0|          0|              0|            former|36.05|            5.0|           130|       0|\n",
      "|Female| 67.0|          0|              0|             never|25.69|            5.8|           200|       0|\n",
      "|Female| 76.0|          0|              0|           No Info|27.32|            5.0|           160|       0|\n",
      "|  Male| 78.0|          0|              0|           No Info|27.32|            6.6|           126|       0|\n",
      "|  Male| 15.0|          0|              0|             never|30.36|            6.1|           200|       0|\n",
      "|Female| 42.0|          0|              0|             never|24.48|            5.7|           158|       0|\n",
      "|Female| 42.0|          0|              0|           No Info|27.32|            5.7|            80|       0|\n",
      "|  Male| 37.0|          0|              0|              ever|25.72|            3.5|           159|       0|\n",
      "+------+-----+-----------+---------------+------------------+-----+---------------+--------------+--------+\n",
      "only showing top 20 rows\n",
      "\n"
     ]
    }
   ],
   "source": [
    "df.show()"
   ]
  },
  {
   "cell_type": "code",
   "execution_count": 33,
   "metadata": {},
   "outputs": [
    {
     "name": "stdout",
     "output_type": "stream",
     "text": [
      "+------+-------------------+\n",
      "|genero|max(niveis_glicose)|\n",
      "+------+-------------------+\n",
      "|Female|                300|\n",
      "| Other|                200|\n",
      "|  Male|                300|\n",
      "+------+-------------------+\n",
      "\n"
     ]
    }
   ],
   "source": [
    "# Olhando para o valor maximo de niveis de glicose, podemos perceber que nao existe diferenca entre homens e mulheres\n",
    "df.groupBy(\"genero\").max(\"niveis_glicose\").show()"
   ]
  },
  {
   "cell_type": "code",
   "execution_count": null,
   "metadata": {},
   "outputs": [],
   "source": []
  }
 ],
 "metadata": {
  "kernelspec": {
   "display_name": "PySpark",
   "language": "python",
   "name": "pyspark"
  },
  "language_info": {
   "codemirror_mode": {
    "name": "ipython",
    "version": 3
   },
   "file_extension": ".py",
   "mimetype": "text/x-python",
   "name": "python",
   "nbconvert_exporter": "python",
   "pygments_lexer": "ipython3",
   "version": "3.6.10"
  }
 },
 "nbformat": 4,
 "nbformat_minor": 2
}
